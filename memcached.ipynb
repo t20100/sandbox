{
 "cells": [
  {
   "cell_type": "code",
   "execution_count": 1,
   "metadata": {},
   "outputs": [
    {
     "name": "stdout",
     "output_type": "stream",
     "text": [
      "Populating the interactive namespace from numpy and matplotlib\n"
     ]
    }
   ],
   "source": [
    "%pylab inline"
   ]
  },
  {
   "cell_type": "code",
   "execution_count": 2,
   "metadata": {},
   "outputs": [],
   "source": [
    "from pymemcache.client.base import Client\n",
    "import numpy\n",
    "import io"
   ]
  },
  {
   "cell_type": "markdown",
   "metadata": {},
   "source": [
    "# Numpy codecs"
   ]
  },
  {
   "cell_type": "code",
   "execution_count": 3,
   "metadata": {},
   "outputs": [],
   "source": [
    "class NumpySerde(object):\n",
    "\n",
    "    def serialize(key, value):\n",
    "        if isinstance(value, numpy.ndarray):\n",
    "            with io.BytesIO() as buffer:\n",
    "                numpy.save(buffer, value)\n",
    "                return buffer.getvalue(), 2\n",
    "        else:\n",
    "            return value, 1\n",
    "\n",
    "    def deserialize(key, value, flags):\n",
    "        if flags == 1:\n",
    "            return value\n",
    "        elif flags == 2:\n",
    "            with io.BytesIO(value) as buffer:\n",
    "                return numpy.load(buffer)\n",
    "        else:\n",
    "            raise RuntimeException(\"Unsupported serialization flags\")\n"
   ]
  },
  {
   "cell_type": "code",
   "execution_count": 4,
   "metadata": {},
   "outputs": [],
   "source": [
    "# TODO add shape, dtype\n",
    "class NumpyBytesSerde(object):\n",
    "    def serialize(key, value):\n",
    "        if isinstance(value, numpy.ndarray):\n",
    "            return value.tobytes(), 2\n",
    "        else:\n",
    "            return value, 1  # TODO\n",
    "\n",
    "    def deserialize(key, value, flags):\n",
    "        if flags == 1:\n",
    "            return value\n",
    "        elif flags == 2:\n",
    "            return numpy.frombuffer(value, dtype=numpy.float32)\n",
    "        else:\n",
    "            raise RuntimeException(\"Unsupported serialization flags\")\n"
   ]
  },
  {
   "cell_type": "markdown",
   "metadata": {},
   "source": [
    "# bloscpack codec"
   ]
  },
  {
   "cell_type": "code",
   "execution_count": 5,
   "metadata": {},
   "outputs": [],
   "source": [
    "import bloscpack\n",
    "\n",
    "class NumpyBloscpackSerde(object):\n",
    "    \"\"\"Numpy array serializer using bloscpack\"\"\"\n",
    "    BLOSC_ARGS = bloscpack.BloscArgs(cname='lz4')\n",
    "\n",
    "    def serialize(key, value):\n",
    "        if isinstance(value, numpy.ndarray):\n",
    "            return bloscpack.pack_ndarray_to_bytes(value, blosc_args=NumpyBloscpackSerde.BLOSC_ARGS), 2\n",
    "        else:\n",
    "            return value, 1  # TODO\n",
    "\n",
    "    def deserialize(key, value, flags):\n",
    "        if flags == 1:\n",
    "            return value\n",
    "        elif flags == 2:\n",
    "            return bloscpack.unpack_ndarray_from_bytes(value)\n",
    "        else:\n",
    "            raise RuntimeException(\"Unsupported serialization flags\")"
   ]
  },
  {
   "cell_type": "markdown",
   "metadata": {},
   "source": [
    "# zfp codec"
   ]
  },
  {
   "cell_type": "code",
   "execution_count": 6,
   "metadata": {},
   "outputs": [],
   "source": [
    "import pyzfp\n",
    "\n",
    "class ZFPSerde(object):\n",
    "    \"\"\"Numpy array serializer using zfp\n",
    "\n",
    "    key MUST be uid_dim0,dim1,...dimN_[numpy.dtype.dtype.str]\n",
    "    \"\"\"\n",
    "    ZFP_ARGS = {'tolerance': 0.0000001}\n",
    "\n",
    "    def genkey(prefix, array):\n",
    "        return '_'.join((prefix, ','.join(map(str, array.shape)), array.dtype.str))\n",
    "        \n",
    "    def serialize(key, value):\n",
    "        if isinstance(value, numpy.ndarray):\n",
    "            return bytes(pyzfp.compress(value, parallel=True, **ZFPSerde.ZFP_ARGS)), 2\n",
    "        else:\n",
    "            return value, 1  # TODO\n",
    "\n",
    "    def deserialize(key, value, flags):\n",
    "        if flags == 1:\n",
    "            return value\n",
    "        elif flags == 2:\n",
    "            _, shape_str, dtype_str = key.rsplit('_', 2)\n",
    "            shape = tuple(map(int, shape_str.split(',')))\n",
    "            return pyzfp.decompress(\n",
    "                value, shape, numpy.dtype(dtype_str), **ZFPSerde.ZFP_ARGS)\n",
    "        else:\n",
    "            raise RuntimeException(\"Unsupported serialization flags\")\n",
    "\n",
    "\n",
    "class ZFPClient(Client):\n",
    "    \"\"\"Thin wrapper to store shape + dtype in key\"\"\"\n",
    "    def __init__(self, server):\n",
    "        super().__init__(server, serde=ZFPSerde)\n",
    "        self._keys = {}\n",
    "\n",
    "    def set(self, key, value):\n",
    "        if isinstance(value, numpy.ndarray):\n",
    "            self._keys[key] = ZFPSerde.genkey(key, value)\n",
    "            key = self._keys[key]\n",
    "        return super().set(key, value)\n",
    "\n",
    "    def get(self, key):\n",
    "        return super().get(self._keys.get(key, key))\n"
   ]
  },
  {
   "cell_type": "code",
   "execution_count": 7,
   "metadata": {},
   "outputs": [
    {
     "ename": "ConnectionRefusedError",
     "evalue": "[Errno 111] Connection refused",
     "output_type": "error",
     "traceback": [
      "\u001b[0;31m---------------------------------------------------------------------------\u001b[0m",
      "\u001b[0;31mConnectionRefusedError\u001b[0m                    Traceback (most recent call last)",
      "\u001b[0;32m<ipython-input-7-088c5a960af8>\u001b[0m in \u001b[0;36m<module>\u001b[0;34m\u001b[0m\n\u001b[1;32m      2\u001b[0m \u001b[0ma\u001b[0m \u001b[0;34m=\u001b[0m \u001b[0mnumpy\u001b[0m\u001b[0;34m.\u001b[0m\u001b[0mlinspace\u001b[0m\u001b[0;34m(\u001b[0m\u001b[0;36m0\u001b[0m\u001b[0;34m,\u001b[0m \u001b[0;36m100\u001b[0m\u001b[0;34m,\u001b[0m \u001b[0mnum\u001b[0m\u001b[0;34m=\u001b[0m\u001b[0;36m1000000\u001b[0m\u001b[0;34m)\u001b[0m\u001b[0;34m.\u001b[0m\u001b[0mreshape\u001b[0m\u001b[0;34m(\u001b[0m\u001b[0;34m(\u001b[0m\u001b[0;36m100\u001b[0m\u001b[0;34m,\u001b[0m \u001b[0;36m100\u001b[0m\u001b[0;34m,\u001b[0m \u001b[0;36m100\u001b[0m\u001b[0;34m)\u001b[0m\u001b[0;34m)\u001b[0m\u001b[0;34m\u001b[0m\u001b[0;34m\u001b[0m\u001b[0m\n\u001b[1;32m      3\u001b[0m \u001b[0;34m\u001b[0m\u001b[0m\n\u001b[0;32m----> 4\u001b[0;31m \u001b[0mget_ipython\u001b[0m\u001b[0;34m(\u001b[0m\u001b[0;34m)\u001b[0m\u001b[0;34m.\u001b[0m\u001b[0mrun_line_magic\u001b[0m\u001b[0;34m(\u001b[0m\u001b[0;34m'timeit'\u001b[0m\u001b[0;34m,\u001b[0m \u001b[0;34m\"clientZFP.set('data', a)\"\u001b[0m\u001b[0;34m)\u001b[0m\u001b[0;34m\u001b[0m\u001b[0;34m\u001b[0m\u001b[0m\n\u001b[0m\u001b[1;32m      5\u001b[0m \u001b[0mget_ipython\u001b[0m\u001b[0;34m(\u001b[0m\u001b[0;34m)\u001b[0m\u001b[0;34m.\u001b[0m\u001b[0mrun_line_magic\u001b[0m\u001b[0;34m(\u001b[0m\u001b[0;34m'timeit'\u001b[0m\u001b[0;34m,\u001b[0m \u001b[0;34m\"b = clientZFP.get('data')\"\u001b[0m\u001b[0;34m)\u001b[0m\u001b[0;34m\u001b[0m\u001b[0;34m\u001b[0m\u001b[0m\n\u001b[1;32m      6\u001b[0m \u001b[0;34m\u001b[0m\u001b[0m\n",
      "\u001b[0;32m~/venvs/py38/lib/python3.8/site-packages/IPython/core/interactiveshell.py\u001b[0m in \u001b[0;36mrun_line_magic\u001b[0;34m(self, magic_name, line, _stack_depth)\u001b[0m\n\u001b[1;32m   2315\u001b[0m                 \u001b[0mkwargs\u001b[0m\u001b[0;34m[\u001b[0m\u001b[0;34m'local_ns'\u001b[0m\u001b[0;34m]\u001b[0m \u001b[0;34m=\u001b[0m \u001b[0msys\u001b[0m\u001b[0;34m.\u001b[0m\u001b[0m_getframe\u001b[0m\u001b[0;34m(\u001b[0m\u001b[0mstack_depth\u001b[0m\u001b[0;34m)\u001b[0m\u001b[0;34m.\u001b[0m\u001b[0mf_locals\u001b[0m\u001b[0;34m\u001b[0m\u001b[0;34m\u001b[0m\u001b[0m\n\u001b[1;32m   2316\u001b[0m             \u001b[0;32mwith\u001b[0m \u001b[0mself\u001b[0m\u001b[0;34m.\u001b[0m\u001b[0mbuiltin_trap\u001b[0m\u001b[0;34m:\u001b[0m\u001b[0;34m\u001b[0m\u001b[0;34m\u001b[0m\u001b[0m\n\u001b[0;32m-> 2317\u001b[0;31m                 \u001b[0mresult\u001b[0m \u001b[0;34m=\u001b[0m \u001b[0mfn\u001b[0m\u001b[0;34m(\u001b[0m\u001b[0;34m*\u001b[0m\u001b[0margs\u001b[0m\u001b[0;34m,\u001b[0m \u001b[0;34m**\u001b[0m\u001b[0mkwargs\u001b[0m\u001b[0;34m)\u001b[0m\u001b[0;34m\u001b[0m\u001b[0;34m\u001b[0m\u001b[0m\n\u001b[0m\u001b[1;32m   2318\u001b[0m             \u001b[0;32mreturn\u001b[0m \u001b[0mresult\u001b[0m\u001b[0;34m\u001b[0m\u001b[0;34m\u001b[0m\u001b[0m\n\u001b[1;32m   2319\u001b[0m \u001b[0;34m\u001b[0m\u001b[0m\n",
      "\u001b[0;32m<decorator-gen-60>\u001b[0m in \u001b[0;36mtimeit\u001b[0;34m(self, line, cell, local_ns)\u001b[0m\n",
      "\u001b[0;32m~/venvs/py38/lib/python3.8/site-packages/IPython/core/magic.py\u001b[0m in \u001b[0;36m<lambda>\u001b[0;34m(f, *a, **k)\u001b[0m\n\u001b[1;32m    185\u001b[0m     \u001b[0;31m# but it's overkill for just that one bit of state.\u001b[0m\u001b[0;34m\u001b[0m\u001b[0;34m\u001b[0m\u001b[0;34m\u001b[0m\u001b[0m\n\u001b[1;32m    186\u001b[0m     \u001b[0;32mdef\u001b[0m \u001b[0mmagic_deco\u001b[0m\u001b[0;34m(\u001b[0m\u001b[0marg\u001b[0m\u001b[0;34m)\u001b[0m\u001b[0;34m:\u001b[0m\u001b[0;34m\u001b[0m\u001b[0;34m\u001b[0m\u001b[0m\n\u001b[0;32m--> 187\u001b[0;31m         \u001b[0mcall\u001b[0m \u001b[0;34m=\u001b[0m \u001b[0;32mlambda\u001b[0m \u001b[0mf\u001b[0m\u001b[0;34m,\u001b[0m \u001b[0;34m*\u001b[0m\u001b[0ma\u001b[0m\u001b[0;34m,\u001b[0m \u001b[0;34m**\u001b[0m\u001b[0mk\u001b[0m\u001b[0;34m:\u001b[0m \u001b[0mf\u001b[0m\u001b[0;34m(\u001b[0m\u001b[0;34m*\u001b[0m\u001b[0ma\u001b[0m\u001b[0;34m,\u001b[0m \u001b[0;34m**\u001b[0m\u001b[0mk\u001b[0m\u001b[0;34m)\u001b[0m\u001b[0;34m\u001b[0m\u001b[0;34m\u001b[0m\u001b[0m\n\u001b[0m\u001b[1;32m    188\u001b[0m \u001b[0;34m\u001b[0m\u001b[0m\n\u001b[1;32m    189\u001b[0m         \u001b[0;32mif\u001b[0m \u001b[0mcallable\u001b[0m\u001b[0;34m(\u001b[0m\u001b[0marg\u001b[0m\u001b[0;34m)\u001b[0m\u001b[0;34m:\u001b[0m\u001b[0;34m\u001b[0m\u001b[0;34m\u001b[0m\u001b[0m\n",
      "\u001b[0;32m~/venvs/py38/lib/python3.8/site-packages/IPython/core/magics/execution.py\u001b[0m in \u001b[0;36mtimeit\u001b[0;34m(self, line, cell, local_ns)\u001b[0m\n\u001b[1;32m   1158\u001b[0m             \u001b[0;32mfor\u001b[0m \u001b[0mindex\u001b[0m \u001b[0;32min\u001b[0m \u001b[0mrange\u001b[0m\u001b[0;34m(\u001b[0m\u001b[0;36m0\u001b[0m\u001b[0;34m,\u001b[0m \u001b[0;36m10\u001b[0m\u001b[0;34m)\u001b[0m\u001b[0;34m:\u001b[0m\u001b[0;34m\u001b[0m\u001b[0;34m\u001b[0m\u001b[0m\n\u001b[1;32m   1159\u001b[0m                 \u001b[0mnumber\u001b[0m \u001b[0;34m=\u001b[0m \u001b[0;36m10\u001b[0m \u001b[0;34m**\u001b[0m \u001b[0mindex\u001b[0m\u001b[0;34m\u001b[0m\u001b[0;34m\u001b[0m\u001b[0m\n\u001b[0;32m-> 1160\u001b[0;31m                 \u001b[0mtime_number\u001b[0m \u001b[0;34m=\u001b[0m \u001b[0mtimer\u001b[0m\u001b[0;34m.\u001b[0m\u001b[0mtimeit\u001b[0m\u001b[0;34m(\u001b[0m\u001b[0mnumber\u001b[0m\u001b[0;34m)\u001b[0m\u001b[0;34m\u001b[0m\u001b[0;34m\u001b[0m\u001b[0m\n\u001b[0m\u001b[1;32m   1161\u001b[0m                 \u001b[0;32mif\u001b[0m \u001b[0mtime_number\u001b[0m \u001b[0;34m>=\u001b[0m \u001b[0;36m0.2\u001b[0m\u001b[0;34m:\u001b[0m\u001b[0;34m\u001b[0m\u001b[0;34m\u001b[0m\u001b[0m\n\u001b[1;32m   1162\u001b[0m                     \u001b[0;32mbreak\u001b[0m\u001b[0;34m\u001b[0m\u001b[0;34m\u001b[0m\u001b[0m\n",
      "\u001b[0;32m~/venvs/py38/lib/python3.8/site-packages/IPython/core/magics/execution.py\u001b[0m in \u001b[0;36mtimeit\u001b[0;34m(self, number)\u001b[0m\n\u001b[1;32m    167\u001b[0m         \u001b[0mgc\u001b[0m\u001b[0;34m.\u001b[0m\u001b[0mdisable\u001b[0m\u001b[0;34m(\u001b[0m\u001b[0;34m)\u001b[0m\u001b[0;34m\u001b[0m\u001b[0;34m\u001b[0m\u001b[0m\n\u001b[1;32m    168\u001b[0m         \u001b[0;32mtry\u001b[0m\u001b[0;34m:\u001b[0m\u001b[0;34m\u001b[0m\u001b[0;34m\u001b[0m\u001b[0m\n\u001b[0;32m--> 169\u001b[0;31m             \u001b[0mtiming\u001b[0m \u001b[0;34m=\u001b[0m \u001b[0mself\u001b[0m\u001b[0;34m.\u001b[0m\u001b[0minner\u001b[0m\u001b[0;34m(\u001b[0m\u001b[0mit\u001b[0m\u001b[0;34m,\u001b[0m \u001b[0mself\u001b[0m\u001b[0;34m.\u001b[0m\u001b[0mtimer\u001b[0m\u001b[0;34m)\u001b[0m\u001b[0;34m\u001b[0m\u001b[0;34m\u001b[0m\u001b[0m\n\u001b[0m\u001b[1;32m    170\u001b[0m         \u001b[0;32mfinally\u001b[0m\u001b[0;34m:\u001b[0m\u001b[0;34m\u001b[0m\u001b[0;34m\u001b[0m\u001b[0m\n\u001b[1;32m    171\u001b[0m             \u001b[0;32mif\u001b[0m \u001b[0mgcold\u001b[0m\u001b[0;34m:\u001b[0m\u001b[0;34m\u001b[0m\u001b[0;34m\u001b[0m\u001b[0m\n",
      "\u001b[0;32m<magic-timeit>\u001b[0m in \u001b[0;36minner\u001b[0;34m(_it, _timer)\u001b[0m\n",
      "\u001b[0;32m<ipython-input-6-297408d41799>\u001b[0m in \u001b[0;36mset\u001b[0;34m(self, key, value)\u001b[0m\n\u001b[1;32m     39\u001b[0m             \u001b[0mself\u001b[0m\u001b[0;34m.\u001b[0m\u001b[0m_keys\u001b[0m\u001b[0;34m[\u001b[0m\u001b[0mkey\u001b[0m\u001b[0;34m]\u001b[0m \u001b[0;34m=\u001b[0m \u001b[0mZFPSerde\u001b[0m\u001b[0;34m.\u001b[0m\u001b[0mgenkey\u001b[0m\u001b[0;34m(\u001b[0m\u001b[0mkey\u001b[0m\u001b[0;34m,\u001b[0m \u001b[0mvalue\u001b[0m\u001b[0;34m)\u001b[0m\u001b[0;34m\u001b[0m\u001b[0;34m\u001b[0m\u001b[0m\n\u001b[1;32m     40\u001b[0m             \u001b[0mkey\u001b[0m \u001b[0;34m=\u001b[0m \u001b[0mself\u001b[0m\u001b[0;34m.\u001b[0m\u001b[0m_keys\u001b[0m\u001b[0;34m[\u001b[0m\u001b[0mkey\u001b[0m\u001b[0;34m]\u001b[0m\u001b[0;34m\u001b[0m\u001b[0;34m\u001b[0m\u001b[0m\n\u001b[0;32m---> 41\u001b[0;31m         \u001b[0;32mreturn\u001b[0m \u001b[0msuper\u001b[0m\u001b[0;34m(\u001b[0m\u001b[0;34m)\u001b[0m\u001b[0;34m.\u001b[0m\u001b[0mset\u001b[0m\u001b[0;34m(\u001b[0m\u001b[0mkey\u001b[0m\u001b[0;34m,\u001b[0m \u001b[0mvalue\u001b[0m\u001b[0;34m)\u001b[0m\u001b[0;34m\u001b[0m\u001b[0;34m\u001b[0m\u001b[0m\n\u001b[0m\u001b[1;32m     42\u001b[0m \u001b[0;34m\u001b[0m\u001b[0m\n\u001b[1;32m     43\u001b[0m     \u001b[0;32mdef\u001b[0m \u001b[0mget\u001b[0m\u001b[0;34m(\u001b[0m\u001b[0mself\u001b[0m\u001b[0;34m,\u001b[0m \u001b[0mkey\u001b[0m\u001b[0;34m)\u001b[0m\u001b[0;34m:\u001b[0m\u001b[0;34m\u001b[0m\u001b[0;34m\u001b[0m\u001b[0m\n",
      "\u001b[0;32m~/venvs/py38/lib/python3.8/site-packages/pymemcache/client/base.py\u001b[0m in \u001b[0;36mset\u001b[0;34m(self, key, value, expire, noreply, flags)\u001b[0m\n\u001b[1;32m    338\u001b[0m         \u001b[0;32mif\u001b[0m \u001b[0mnoreply\u001b[0m \u001b[0;32mis\u001b[0m \u001b[0;32mNone\u001b[0m\u001b[0;34m:\u001b[0m\u001b[0;34m\u001b[0m\u001b[0;34m\u001b[0m\u001b[0m\n\u001b[1;32m    339\u001b[0m             \u001b[0mnoreply\u001b[0m \u001b[0;34m=\u001b[0m \u001b[0mself\u001b[0m\u001b[0;34m.\u001b[0m\u001b[0mdefault_noreply\u001b[0m\u001b[0;34m\u001b[0m\u001b[0;34m\u001b[0m\u001b[0m\n\u001b[0;32m--> 340\u001b[0;31m         return self._store_cmd(b'set', {key: value}, expire, noreply,\n\u001b[0m\u001b[1;32m    341\u001b[0m                                flags=flags)[key]\n\u001b[1;32m    342\u001b[0m \u001b[0;34m\u001b[0m\u001b[0m\n",
      "\u001b[0;32m~/venvs/py38/lib/python3.8/site-packages/pymemcache/client/base.py\u001b[0m in \u001b[0;36m_store_cmd\u001b[0;34m(self, name, values, expire, noreply, flags, cas)\u001b[0m\n\u001b[1;32m    928\u001b[0m \u001b[0;34m\u001b[0m\u001b[0m\n\u001b[1;32m    929\u001b[0m         \u001b[0;32mif\u001b[0m \u001b[0mself\u001b[0m\u001b[0;34m.\u001b[0m\u001b[0msock\u001b[0m \u001b[0;32mis\u001b[0m \u001b[0;32mNone\u001b[0m\u001b[0;34m:\u001b[0m\u001b[0;34m\u001b[0m\u001b[0;34m\u001b[0m\u001b[0m\n\u001b[0;32m--> 930\u001b[0;31m             \u001b[0mself\u001b[0m\u001b[0;34m.\u001b[0m\u001b[0m_connect\u001b[0m\u001b[0;34m(\u001b[0m\u001b[0;34m)\u001b[0m\u001b[0;34m\u001b[0m\u001b[0;34m\u001b[0m\u001b[0m\n\u001b[0m\u001b[1;32m    931\u001b[0m \u001b[0;34m\u001b[0m\u001b[0m\n\u001b[1;32m    932\u001b[0m         \u001b[0;32mtry\u001b[0m\u001b[0;34m:\u001b[0m\u001b[0;34m\u001b[0m\u001b[0;34m\u001b[0m\u001b[0m\n",
      "\u001b[0;32m~/venvs/py38/lib/python3.8/site-packages/pymemcache/client/base.py\u001b[0m in \u001b[0;36m_connect\u001b[0;34m(self)\u001b[0m\n\u001b[1;32m    294\u001b[0m         \u001b[0;32mtry\u001b[0m\u001b[0;34m:\u001b[0m\u001b[0;34m\u001b[0m\u001b[0;34m\u001b[0m\u001b[0m\n\u001b[1;32m    295\u001b[0m             \u001b[0msock\u001b[0m\u001b[0;34m.\u001b[0m\u001b[0msettimeout\u001b[0m\u001b[0;34m(\u001b[0m\u001b[0mself\u001b[0m\u001b[0;34m.\u001b[0m\u001b[0mconnect_timeout\u001b[0m\u001b[0;34m)\u001b[0m\u001b[0;34m\u001b[0m\u001b[0;34m\u001b[0m\u001b[0m\n\u001b[0;32m--> 296\u001b[0;31m             \u001b[0msock\u001b[0m\u001b[0;34m.\u001b[0m\u001b[0mconnect\u001b[0m\u001b[0;34m(\u001b[0m\u001b[0mself\u001b[0m\u001b[0;34m.\u001b[0m\u001b[0mserver\u001b[0m\u001b[0;34m)\u001b[0m\u001b[0;34m\u001b[0m\u001b[0;34m\u001b[0m\u001b[0m\n\u001b[0m\u001b[1;32m    297\u001b[0m             \u001b[0msock\u001b[0m\u001b[0;34m.\u001b[0m\u001b[0msettimeout\u001b[0m\u001b[0;34m(\u001b[0m\u001b[0mself\u001b[0m\u001b[0;34m.\u001b[0m\u001b[0mtimeout\u001b[0m\u001b[0;34m)\u001b[0m\u001b[0;34m\u001b[0m\u001b[0;34m\u001b[0m\u001b[0m\n\u001b[1;32m    298\u001b[0m             \u001b[0;32mif\u001b[0m \u001b[0mself\u001b[0m\u001b[0;34m.\u001b[0m\u001b[0mno_delay\u001b[0m \u001b[0;32mand\u001b[0m \u001b[0msock\u001b[0m\u001b[0;34m.\u001b[0m\u001b[0mfamily\u001b[0m \u001b[0;34m==\u001b[0m \u001b[0mself\u001b[0m\u001b[0;34m.\u001b[0m\u001b[0msocket_module\u001b[0m\u001b[0;34m.\u001b[0m\u001b[0mAF_INET\u001b[0m\u001b[0;34m:\u001b[0m\u001b[0;34m\u001b[0m\u001b[0;34m\u001b[0m\u001b[0m\n",
      "\u001b[0;31mConnectionRefusedError\u001b[0m: [Errno 111] Connection refused"
     ]
    }
   ],
   "source": [
    "clientZFP = ZFPClient(('localhost', 11211))\n",
    "a = numpy.linspace(0, 100, num=1000000).reshape((100, 100, 100))\n",
    "\n",
    "%timeit clientZFP.set('data', a)\n",
    "%timeit b = clientZFP.get('data')\n",
    "\n",
    "print(numpy.linalg.norm(b-a))"
   ]
  },
  {
   "cell_type": "markdown",
   "metadata": {},
   "source": [
    "# Example"
   ]
  },
  {
   "cell_type": "code",
   "execution_count": 131,
   "metadata": {},
   "outputs": [],
   "source": [
    "clientLoad = Client(('localhost', 11211), serde=NumpySerde)\n",
    "clientFromBuffer = Client(('localhost', 11211), serde=NumpyBytesSerde)\n",
    "clientBloscPack = Client(('localhost', 11211), serde=NumpyBloscpackSerde)\n",
    "clientZFP = ZFPClient(('localhost', 11211))\n",
    "\n",
    "clients = [clientLoad, clientFromBuffer, clientBloscPack, clientZFP]"
   ]
  },
  {
   "cell_type": "code",
   "execution_count": 132,
   "metadata": {},
   "outputs": [
    {
     "name": "stdout",
     "output_type": "stream",
     "text": [
      "<pymemcache.client.base.Client object at 0x7fd9ca02b3d0>\n",
      "2.47 ms ± 46.7 µs per loop (mean ± std. dev. of 7 runs, 100 loops each)\n",
      "3.13 ms ± 21.4 µs per loop (mean ± std. dev. of 7 runs, 100 loops each)\n",
      "<pymemcache.client.base.Client object at 0x7fd9ca02b3a0>\n",
      "1.97 ms ± 2.32 µs per loop (mean ± std. dev. of 7 runs, 1000 loops each)\n",
      "2.11 ms ± 15.8 µs per loop (mean ± std. dev. of 7 runs, 100 loops each)\n",
      "<pymemcache.client.base.Client object at 0x7fd9ca02b670>\n",
      "8.26 ms ± 257 µs per loop (mean ± std. dev. of 7 runs, 100 loops each)\n",
      "6.01 ms ± 284 µs per loop (mean ± std. dev. of 7 runs, 100 loops each)\n",
      "<__main__.ZFPClient object at 0x7fd9ca02ba30>\n",
      "10.6 ms ± 110 µs per loop (mean ± std. dev. of 7 runs, 100 loops each)\n",
      "42.1 ms ± 107 µs per loop (mean ± std. dev. of 7 runs, 10 loops each)\n"
     ]
    }
   ],
   "source": [
    "size = 1024\n",
    "img = numpy.random.random(size*size).astype(numpy.float32).reshape(size, size)\n",
    "\n",
    "for client in clients:\n",
    "    print(client)\n",
    "    %timeit client.set('img', img)\n",
    "    %timeit data = client.get('img')\n",
    "    #print(client, data.shape, data.dtype)\n",
    "    #assert numpy.array_equal(numpy.ravel(img), numpy.ravel(data))"
   ]
  },
  {
   "cell_type": "code",
   "execution_count": 133,
   "metadata": {},
   "outputs": [
    {
     "name": "stdout",
     "output_type": "stream",
     "text": [
      "<pymemcache.client.base.Client object at 0x7fd9ca02b3d0> None\n",
      "<pymemcache.client.base.Client object at 0x7fd9ca02b3a0> None\n",
      "<pymemcache.client.base.Client object at 0x7fd9ca02b670> None\n",
      "<__main__.ZFPClient object at 0x7fd9ca02ba30> None\n"
     ]
    }
   ],
   "source": [
    "for client in clients:\n",
    "    print(client, client.get('key6'))"
   ]
  },
  {
   "cell_type": "markdown",
   "metadata": {},
   "source": [
    "# Access chunks"
   ]
  },
  {
   "cell_type": "code",
   "execution_count": 8,
   "metadata": {},
   "outputs": [],
   "source": [
    "template = 'data' + '[' + ','.join(['%d:%d'] * 3) + ']'\n",
    "\n",
    "def get_data(client, s0, e0, s1, e1, s2, e2):\n",
    "    key = template % (s0, e0, s1, e1, s2, e2)\n",
    "    return client.get(key)"
   ]
  },
  {
   "cell_type": "code",
   "execution_count": 9,
   "metadata": {},
   "outputs": [],
   "source": [
    "client = Client(('localhost', 11211), serde=NumpySerde)"
   ]
  },
  {
   "cell_type": "code",
   "execution_count": 34,
   "metadata": {},
   "outputs": [
    {
     "name": "stdout",
     "output_type": "stream",
     "text": [
      "slices: [ 512 , 544 ]; offset= 3\n"
     ]
    },
    {
     "data": {
      "text/plain": [
       "<matplotlib.image.AxesImage at 0x7fd7be8a0ca0>"
      ]
     },
     "execution_count": 34,
     "metadata": {},
     "output_type": "execute_result"
    },
    {
     "data": {
      "image/png": "[encoded data removed]",
      "text/plain": [
       "<Figure size 432x288 with 1 Axes>"
      ]
     },
     "metadata": {
      "needs_background": "light"
     },
     "output_type": "display_data"
    }
   ],
   "source": [
    "def get_slice_chunks(client, origin, step):\n",
    "    data = numpy.zeros((step, 2048, 2048), dtype=numpy.float32)\n",
    "\n",
    "    for row in range(0, 2048, step):\n",
    "        for col in range(0, 2040, step):\n",
    "            data[0:step, row:row+step, col:col+step] = get_data(client, origin, origin+step, row, row+step, col, col+step)\n",
    "    return data\n",
    "\n",
    "print('slices: [', origin, ',', origin+step, ']; offset=', offset)\n",
    "\n",
    "slice_ = 515\n",
    "step = 32\n",
    "\n",
    "offset = slice_ % step\n",
    "origin = slice_ - offset\n",
    "\n",
    "data = get_slice_chunks(client, origin, step)\n",
    "\n",
    "#imshow(data[offset])"
   ]
  },
  {
   "cell_type": "code",
   "execution_count": 29,
   "metadata": {
    "scrolled": true
   },
   "outputs": [
    {
     "data": {
      "image/png": "[encoded data removed]",
      "text/plain": [
       "<Figure size 432x288 with 1 Axes>"
      ]
     },
     "metadata": {
      "needs_background": "light"
     },
     "output_type": "display_data"
    }
   ],
   "source": [
    "import h5py\n",
    "\n",
    "with h5py.File('/users/tvincent/data/BM18/MRI3D.h5', 'r') as f:\n",
    "    imshow(f['data'][515])"
   ]
  },
  {
   "cell_type": "code",
   "execution_count": 47,
   "metadata": {},
   "outputs": [],
   "source": [
    "import collections.abc\n",
    "import itertools\n",
    "import json\n",
    "\n",
    "import numpy\n",
    "from pymemcache.client.base import Client\n",
    "\n",
    "\n",
    "class NumpySerde(object):\n",
    "    \"\"\"pymemcache serializer/deserializer for numpy.ndarray\"\"\"\n",
    "\n",
    "    def serialize(key, value):\n",
    "        if isinstance(value, numpy.ndarray):\n",
    "            with io.BytesIO() as buffer:\n",
    "                numpy.save(buffer, value)\n",
    "                return buffer.getvalue(), 2\n",
    "        else:\n",
    "            return value, 1\n",
    "\n",
    "    def deserialize(key, value, flags):\n",
    "        if flags == 1:\n",
    "            return value\n",
    "        elif flags == 2:\n",
    "            with io.BytesIO(value) as buffer:\n",
    "                return numpy.load(buffer)\n",
    "        else:\n",
    "            raise RuntimeException(\"Unsupported serialization flags\")\n",
    "\n",
    "\n",
    "class MemcachedArray(collections.abc.Sequence):\n",
    "    \"\"\"\n",
    "\n",
    "    :param server: (host, port)\n",
    "    :param str uid:\n",
    "    :param kwargs: Extra arguments are passed to pymemcache Client\n",
    "    \"\"\"\n",
    "\n",
    "    def __init__(self, server, uid, **kwargs):\n",
    "        super().__init__()\n",
    "        self.__client = Client(server, serde=NumpySerde, **kwargs)\n",
    "        self.__uid = uid\n",
    "\n",
    "        # Fetch header and set shape, dtype and chunks\n",
    "        self.__get_header_info()\n",
    "\n",
    "        self.__template = uid + '[' + ','.join(['%d:%d'] * len(self.__shape)) + ']'\n",
    "\n",
    "    server = property(lambda self: self.__client.server)\n",
    "    uid = property(lambda self: self.__uid)\n",
    "\n",
    "    # numpy.ndarray-like\n",
    "    shape = property(lambda self: self.__shape)\n",
    "    ndim = property(lambda self: len(self.__shape))\n",
    "    size = property(lambda self: int(numpy.prod(self.__shape)))\n",
    "    dtype = property(lambda self: self.__dtype)\n",
    "\n",
    "    # h5py.Dataset-like\n",
    "    chunks = property(lambda self: self.__chunks)\n",
    "\n",
    "    def __get_header_info(self):\n",
    "        \"\"\"Fetch header and set shape, dtype and chunks information\"\"\"\n",
    "        header = self.__client.get(self.uid)\n",
    "        if header is None:\n",
    "            raise RuntimeError(\"Header information not available\")\n",
    "        header = json.loads(header)\n",
    "        self.__shape = tuple(header['shape'])\n",
    "        self.__dtype = numpy.dtype(header['dtype'])\n",
    "        self.__chunks = tuple(header['chunks'])\n",
    "        if len(self.__shape) != len(self.__chunks):\n",
    "            raise RuntimeError(\"shape/chunks length miss-match\")\n",
    "\n",
    "    def _get(self, *indices):\n",
    "        \"\"\"Return chunk data from chunk indices on each dimension.\n",
    "        \n",
    "        :param List[int] indices: \n",
    "        \"\"\"\n",
    "        key = self.__template % tuple(itertools.chain.from_iterable(\n",
    "            (index * size, (index + 1) * size) for index, size in zip(indices, self.chunks)))\n",
    "        return self.__client.get(key)\n",
    "\n",
    "    def _get_from_slices(self, *slices):\n",
    "        key = self.__template % itertools.chain.from_iterable((s.start, s.stop) for s in slices)\n",
    "        return self.__client.get(key)\n",
    "        \n",
    "    # Python\n",
    "    def __len__(self):\n",
    "        return self.shape[0]\n",
    "\n",
    "    def __getitem__(self, key):\n",
    "        # Convert key to as many indices/slices as dataset dimension\n",
    "        if not isinstance(key, collections.abc.Sequence):\n",
    "            key = [key]\n",
    "        if len(key) < self.ndim:\n",
    "            key = list(key) + [slice(None)] * (self.ndim-1)\n",
    "        if len(key) > self.ndim:\n",
    "            raise IndexError(\"too many indices for array\")\n",
    "\n",
    "        # Sanitize indices and slices:\n",
    "        # Clip to shape, handle negative and out-of bound indices, slices\n",
    "        # Convert to list of [start, stop[ for each dimension\n",
    "        index_ranges = []\n",
    "        for item, dim_size in zip(key, self.shape):\n",
    "            if isinstance(item, int):\n",
    "                if item < 0:\n",
    "                    item = dim_size - item\n",
    "                if not 0 <= item < dim_size:\n",
    "                    raise IndexError(\"index %d is out of bounds\" % item)\n",
    "                index_ranges.append((item, item + 1))\n",
    "\n",
    "            elif isinstance(item, slice):\n",
    "                if item.step not in (None, 1):\n",
    "                    raise NotImplementedError(\"Slice step is not supported\")\n",
    "\n",
    "                start, stop = item.start, item.stop\n",
    "                if start is None:\n",
    "                    start = 0\n",
    "                if start < 0:\n",
    "                    start = max(0, dim_size + start)\n",
    "\n",
    "                if stop is None:\n",
    "                    stop = dim_size\n",
    "                if stop < 0:\n",
    "                    stop = max(0, dim_size + stop)\n",
    "                if stop > dim_size:\n",
    "                    stop = dim_size\n",
    "\n",
    "                if start >= dim_size or stop <= start:  # Empty array\n",
    "                    return numpy.empty([0] * self.ndim, dtype=self.dtype)\n",
    "                index_ranges.append((start, stop))\n",
    "\n",
    "            else:\n",
    "                raise IndexError(\"only integers and slices (`:`) are valid indices\")\n",
    "\n",
    "        # Allocate array: expect positive indices within range\n",
    "        result = numpy.zeros(\n",
    "            shape=[item[1] - item[0] for item in index_ranges],\n",
    "            dtype=self.dtype)\n",
    "\n",
    "        # convert to requested chunks\n",
    "        chunks = [tuple(range(range_[0] // chunk_size, (range_[1] - 1) // chunk_size + 1))\n",
    "                  for range_, chunk_size in zip(index_ranges, self.chunks)]\n",
    "        permutation = tuple(range(1, len(chunks) + 1)) + (0,)\n",
    "        all_chunk_indices = numpy.array(numpy.meshgrid(*chunks)).transpose(permutation).reshape(-1, len(chunks))\n",
    "\n",
    "        # Get all chunks\n",
    "        cache_keys = [self.__template % tuple(itertools.chain.from_iterable(\n",
    "            (index * size, (index + 1) * size) for index, size in zip(indices, self.chunks)))\n",
    "                      for indices in all_chunk_indices]\n",
    "        data = self.__client.get_many(cache_keys)\n",
    "        #    # TODO copy to result\n",
    "\n",
    "        # slice those\n",
    "        # TODO cache chunks?\n",
    "        # TODO do not create dimension when it is not a slice\n",
    "        return result\n",
    "\n"
   ]
  },
  {
   "cell_type": "code",
   "execution_count": 48,
   "metadata": {},
   "outputs": [
    {
     "data": {
      "text/plain": [
       "((2048, 2048, 2048), dtype('float32'), (32, 32, 32))"
      ]
     },
     "execution_count": 48,
     "metadata": {},
     "output_type": "execute_result"
    }
   ],
   "source": [
    "mdarray = MemcachedArray(server=('localhost', 11211), uid='data', no_delay=True)\n",
    "mdarray.shape, mdarray.dtype, mdarray.chunks"
   ]
  },
  {
   "cell_type": "code",
   "execution_count": 49,
   "metadata": {},
   "outputs": [
    {
     "name": "stdout",
     "output_type": "stream",
     "text": [
      "1.33 s ± 22.4 ms per loop (mean ± std. dev. of 7 runs, 1 loop each)\n"
     ]
    }
   ],
   "source": [
    "%timeit mdarray[512, :, :].shape"
   ]
  },
  {
   "cell_type": "code",
   "execution_count": 46,
   "metadata": {},
   "outputs": [
    {
     "data": {
      "text/plain": [
       "<matplotlib.image.AxesImage at 0x7fd7bed760d0>"
      ]
     },
     "execution_count": 46,
     "metadata": {},
     "output_type": "execute_result"
    },
    {
     "data": {
      "image/png": "[encoded data removed]",
      "text/plain": [
       "<Figure size 432x288 with 1 Axes>"
      ]
     },
     "metadata": {
      "needs_background": "light"
     },
     "output_type": "display_data"
    }
   ],
   "source": [
    "imshow(mdarray[512, :, :][0])"
   ]
  },
  {
   "cell_type": "markdown",
   "metadata": {},
   "source": [
    "# Benchmark\n",
    "\n",
    "Read memcached through localhost to retrieve 2048x2048 float32 of chunked data.\n",
    "\n",
    "## chunk size (n element) -> time (sec) / time without memcached (ms)\n",
    "*  5^3 -> 39s / 1000ms\n",
    "* 10^3 -> 10s / 255ms\n",
    "* 20^3 -> 2.8s\n",
    "* 30^3 -> 1.6s\n",
    "* 40^3 -> 1.25s\n",
    "* 50^3 -> 1.2s  / 17ms\n",
    "* 60^3 -> 1.2s\n",
    "* 70^3 = 343k -> 1.3s\n",
    "* 80^3 = 512k -> 1.4s  / 9ms\n",
    "\n",
    "* 512^2 = 262k -> 27ms / 3ms\n",
    "* 1024^2 = 1M -> 27ms / 3ms\n",
    "* 2048^2 = 4M -> 30ms / 3ms\n"
   ]
  },
  {
   "cell_type": "markdown",
   "metadata": {},
   "source": [
    "# Direct read through socket"
   ]
  },
  {
   "cell_type": "code",
   "execution_count": 62,
   "metadata": {},
   "outputs": [],
   "source": [
    "from collections.abc import Sequence\n",
    "import socket\n",
    "import io\n",
    "import numpy\n",
    "from numpy.lib.format import read_array\n",
    "\n",
    "\n",
    "class MemcachedReader:\n",
    "    def __init__(self, server=('localhost', 11211)):\n",
    "        self.server = server\n",
    "        self.sock = socket.socket(socket.AF_INET, socket.SOCK_STREAM)\n",
    "        #self.sock.settimeout(None)  # Connect timeout\n",
    "        self.sock.connect(server)\n",
    "        #self.sock.settimeout(None)  # Timeout\n",
    "        #self.sock.setsockopt(socket.IPPROTO_TCP, socket.TCP_NODELAY, 1) # TCP no delay\n",
    "        self._f = self.sock.makefile('rwb', newline='')\n",
    "\n",
    "    def set(self, key, value):\n",
    "        \"\"\"Dummy set implementation\"\"\"\n",
    "        client = Client(self.server, serde=NumpySerde)\n",
    "        client.set(key, value)\n",
    "\n",
    "    def get(self, keys):\n",
    "        if isinstance(keys, (str, bytes)):\n",
    "            keys = [keys]\n",
    "        keys = tuple(k.encode('ascii') if isinstance(k, str) else k for k in keys)\n",
    "        nresults = len(keys)\n",
    "        self._f.write(b'get %s\\r\\n' % b' '.join(keys))\n",
    "        self._f.flush()\n",
    "\n",
    "        results = {k: None for k in keys}\n",
    "        while True:\n",
    "            header = self._f.readline()\n",
    "            if header.startswith(b'END\\r\\n'):\n",
    "                return results\n",
    "            if header.startswith(b'ERROR'):\n",
    "                raise RuntimeError()\n",
    "            #assert header[-2:] == b'\\r\\n'\n",
    "            header = header[:-2].split()\n",
    "            #assert len(header) == 4\n",
    "            kind, key, flags, nbytes = header\n",
    "            #assert kind == b'VALUE'\n",
    "            nbytes = int(nbytes)\n",
    "            #array = bloscpack.unpack_ndarray_from_bytes(self._f.read(nbytes))\n",
    "            results[key] = read_array(self._f)\n",
    "            endline = self._f.readline()\n",
    "            #assert endline == b'\\r\\n'\n",
    "        #end = self._f.readline()\n",
    "        #assert end == b'END'\n",
    "        return results\n",
    "\n",
    "    def __del__(self):\n",
    "        self._f.close()\n",
    "        self.sock.close()\n"
   ]
  },
  {
   "cell_type": "code",
   "execution_count": 63,
   "metadata": {},
   "outputs": [
    {
     "data": {
      "text/plain": [
       "{b'key6': None}"
      ]
     },
     "execution_count": 63,
     "metadata": {},
     "output_type": "execute_result"
    }
   ],
   "source": [
    "reader = MemcachedReader()\n",
    "reader.get(b'key6')"
   ]
  },
  {
   "cell_type": "markdown",
   "metadata": {},
   "source": [
    "# Benchmark\n",
    "\n",
    "On localhost, with `memcached --listen=127.0.0.1 --memory-limit=65000 --max-item-size=17m`."
   ]
  },
  {
   "cell_type": "code",
   "execution_count": 134,
   "metadata": {},
   "outputs": [
    {
     "name": "stdout",
     "output_type": "stream",
     "text": [
      "* Data size: 128 kb\n",
      "- numpy.load\n",
      "384 µs ± 3.77 µs per loop (mean ± std. dev. of 7 runs, 1000 loops each)\n",
      "- numpy.frombuffer\n",
      "106 µs ± 1.71 µs per loop (mean ± std. dev. of 7 runs, 10000 loops each)\n",
      "- socket\n",
      "289 µs ± 705 ns per loop (mean ± std. dev. of 7 runs, 1000 loops each)\n",
      "- bloscpack+lz4\n",
      "364 µs ± 4.89 µs per loop (mean ± std. dev. of 7 runs, 1000 loops each)\n",
      "- zfp\n",
      "1.23 ms ± 3.66 µs per loop (mean ± std. dev. of 7 runs, 1000 loops each)\n",
      "* Data size: 1024 kb\n",
      "- numpy.load\n",
      "924 µs ± 4.55 µs per loop (mean ± std. dev. of 7 runs, 1000 loops each)\n",
      "- numpy.frombuffer\n",
      "535 µs ± 3.1 µs per loop (mean ± std. dev. of 7 runs, 1000 loops each)\n",
      "- socket\n",
      "479 µs ± 6.07 µs per loop (mean ± std. dev. of 7 runs, 1000 loops each)\n",
      "- bloscpack+lz4\n",
      "1.38 ms ± 55.6 µs per loop (mean ± std. dev. of 7 runs, 1000 loops each)\n",
      "- zfp\n",
      "8.79 ms ± 8.11 µs per loop (mean ± std. dev. of 7 runs, 100 loops each)\n",
      "* Data size: 4096 kb\n",
      "- numpy.load\n",
      "3.12 ms ± 23.2 µs per loop (mean ± std. dev. of 7 runs, 100 loops each)\n",
      "- numpy.frombuffer\n",
      "1.98 ms ± 27.5 µs per loop (mean ± std. dev. of 7 runs, 1000 loops each)\n",
      "- socket\n",
      "1.12 ms ± 12.9 µs per loop (mean ± std. dev. of 7 runs, 1000 loops each)\n",
      "- bloscpack+lz4\n",
      "6.31 ms ± 145 µs per loop (mean ± std. dev. of 7 runs, 100 loops each)\n",
      "- zfp\n",
      "34.8 ms ± 71.1 µs per loop (mean ± std. dev. of 7 runs, 10 loops each)\n",
      "* Data size: 16384 kb\n",
      "- numpy.load\n",
      "16.5 ms ± 307 µs per loop (mean ± std. dev. of 7 runs, 100 loops each)\n",
      "- numpy.frombuffer\n",
      "10.1 ms ± 16.2 µs per loop (mean ± std. dev. of 7 runs, 100 loops each)\n",
      "- socket\n",
      "4.79 ms ± 5.69 µs per loop (mean ± std. dev. of 7 runs, 100 loops each)\n",
      "- bloscpack+lz4\n",
      "24.1 ms ± 1.56 ms per loop (mean ± std. dev. of 7 runs, 10 loops each)\n",
      "- zfp\n",
      "140 ms ± 94.3 µs per loop (mean ± std. dev. of 7 runs, 10 loops each)\n"
     ]
    }
   ],
   "source": [
    "clients = {'numpy.load': Client(('localhost', 11211), serde=NumpySerde),\n",
    "           'numpy.frombuffer': Client(('localhost', 11211), serde=NumpyBytesSerde),\n",
    "           'socket': MemcachedReader(),\n",
    "           'bloscpack+lz4': Client(('localhost', 11211), serde=NumpyBloscpackSerde),\n",
    "           'zfp': ZFPClient(('localhost', 11211))}\n",
    "\n",
    "for size in (128, 1024, 4096, 16384):\n",
    "    print('* Data size:', size, 'kb')\n",
    "    data = numpy.random.random(size*1024//8)  # float64\n",
    "    for name, client in clients.items():\n",
    "        print('-', name)\n",
    "        client.set('test', data)\n",
    "        %timeit client.get('test')"
   ]
  },
  {
   "cell_type": "code",
   "execution_count": null,
   "metadata": {},
   "outputs": [],
   "source": []
  }
 ],
 "metadata": {
  "kernelspec": {
   "display_name": "Python 3 (venv)",
   "language": "python",
   "name": "python3-venv"
  },
  "language_info": {
   "codemirror_mode": {
    "name": "ipython",
    "version": 3
   },
   "file_extension": ".py",
   "mimetype": "text/x-python",
   "name": "python",
   "nbconvert_exporter": "python",
   "pygments_lexer": "ipython3",
   "version": "3.8.3"
  }
 },
 "nbformat": 4,
 "nbformat_minor": 2
}
